{
 "cells": [
  {
   "cell_type": "code",
   "execution_count": 2,
   "metadata": {},
   "outputs": [
    {
     "name": "stdout",
     "output_type": "stream",
     "text": [
      "0.09370241819843417\n",
      "Accuracy 0.9215686274509803 \n",
      "Precision: 0.9615384615384616 \n",
      "Recall: 0.8928571428571429\n"
     ]
    },
    {
     "data": {
      "image/png": "[encoded data removed]",
      "text/plain": [
       "<Figure size 432x288 with 1 Axes>"
      ]
     },
     "metadata": {
      "needs_background": "light"
     },
     "output_type": "display_data"
    }
   ],
   "source": [
    "import pandas as pd\n",
    "import matplotlib.pyplot as plt\n",
    "import numpy as np\n",
    "from sklearn.model_selection import train_test_split\n",
    "from sklearn.metrics import confusion_matrix\n",
    "\n",
    "#to read file\n",
    "df=pd.read_csv('wdbc.dataset',header=None)\n",
    "\n",
    "df[1] = df[1].map({'M':0,'B':1}) #replacing values of M and B with 0 and 1 \n",
    "\n",
    "x=df.iloc[:,2:].values\n",
    "y=df.iloc[:,1:2].values\n",
    "from sklearn import preprocessing #for standardization\n",
    "std_scale = preprocessing.StandardScaler().fit(x)\n",
    "x=std_scale.transform(x)\n",
    "\n",
    "\n",
    "X_val,X_rem,y_val,y_rem= train_test_split(x,y,test_size=0.9,random_state=1) #partitioning data\n",
    "\n",
    "X_test, X_train, y_test, y_train = train_test_split(X_rem,y_rem,test_size=0.9,random_state=1)\n",
    "\n",
    "#below transposing all the data required for computation\n",
    "X_train =X_train.T \n",
    "y_train =  y_train.T\n",
    "X_val = X_val.T\n",
    "y_val = y_val.T\n",
    "X_test= X_test.T\n",
    "y_test = y_test.T\n",
    "\n",
    "#calculating sigmoid\n",
    "def sigmoid(z):\n",
    "    return 1 / (1 + np.exp(-z))\n",
    "\n",
    "#to find out the cost value\n",
    "def cost_return(inputval,outputval,iterations,l_rate):\n",
    "    global w,b\n",
    "    epochs = iterations\n",
    "    ll = l_rate\n",
    "    losstrack = []\n",
    "    w = np.random.randn(X_train.shape[0], 1)\n",
    "    b = 0\n",
    "\n",
    "    m = inputval.shape[1]\n",
    "    for epoch in range(epochs):\n",
    "        z = np.dot(w.T,inputval) + b\n",
    "        p = sigmoid(z)\n",
    "        cost = -np.sum(np.multiply(np.log(p), outputval) + np.multiply((1 - outputval), np.log(1 - p)))/m\n",
    "        losstrack.append(np.squeeze(cost))\n",
    "        dz = p-outputval\n",
    "        dw = (1 / m) * np.dot(inputval, dz.T)\n",
    "        db = (1 / m) * np.sum(dz)\n",
    "        w = w - ll * dw\n",
    "        b = b - ll * db\n",
    "    plt.plot(losstrack)#plotting cost-echo graph using matplotlib module\n",
    "    plt.title(\"Cost in each iteration\")\n",
    "    plt.xlabel(\"Epoch number\")\n",
    "    plt.ylabel(\"Cost\")\n",
    "    return cost\n",
    "\n",
    "print(cost_return(X_train,y_train,3000,0.007))#calling the cost_return function\n",
    "\n",
    "def classifier(inputval,outputval):\n",
    "    z=np.dot(w.T,inputval)+b\n",
    "    pf = sigmoid(z)\n",
    "    out= (pf > 0.5).astype(int)\n",
    "    return out \n",
    "\n",
    "\n",
    "test_clf = classifier(X_test,y_test)\n",
    "\n",
    "tn,fp,fn,tp=confusion_matrix(y_test[0], test_clf[0]).ravel() #in-built sklearn confusion matrix function \n",
    "\n",
    "def eval_metrics(tn,fp,fn,tp):\n",
    "    accuracy=(tp+tn)/(tp+tn+fp+fn)\n",
    "    recall=tp/(tp+fn)\n",
    "    precision=tp/(tp+fp)\n",
    "    print(\"Accuracy\",accuracy,\"\\nPrecision:\",precision,\"\\nRecall:\",recall)\n",
    "eval_metrics(tn, fp, fn, tp) \n",
    "\n",
    "    "
   ]
  },
  {
   "cell_type": "code",
   "execution_count": null,
   "metadata": {},
   "outputs": [],
   "source": []
  }
 ],
 "metadata": {
  "kernelspec": {
   "display_name": "Python 3",
   "language": "python",
   "name": "python3"
  },
  "language_info": {
   "codemirror_mode": {
    "name": "ipython",
    "version": 3
   },
   "file_extension": ".py",
   "mimetype": "text/x-python",
   "name": "python",
   "nbconvert_exporter": "python",
   "pygments_lexer": "ipython3",
   "version": "3.7.1"
  }
 },
 "nbformat": 4,
 "nbformat_minor": 2
}
